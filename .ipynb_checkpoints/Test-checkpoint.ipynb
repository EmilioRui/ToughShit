{
 "cells": [
  {
   "cell_type": "code",
   "execution_count": 3,
   "id": "9d33a78a",
   "metadata": {},
   "outputs": [
    {
     "data": {
      "text/plain": [
       "24-element Vector{Index{Int64}}:\n",
       " (dim=24|id=519|\"Boson,Site,n=1\")\n",
       " (dim=24|id=933|\"Boson,Site,n=2\")\n",
       " (dim=24|id=845|\"Boson,Site,n=3\")\n",
       " (dim=24|id=588|\"Boson,Site,n=4\")\n",
       " (dim=24|id=981|\"Boson,Site,n=5\")\n",
       " (dim=24|id=301|\"Boson,Site,n=6\")\n",
       " (dim=24|id=74|\"Boson,Site,n=7\")\n",
       " (dim=24|id=334|\"Boson,Site,n=8\")\n",
       " (dim=24|id=867|\"Boson,Site,n=9\")\n",
       " (dim=24|id=491|\"Boson,Site,n=10\")\n",
       " (dim=24|id=935|\"Boson,Site,n=11\")\n",
       " (dim=24|id=170|\"Boson,Site,n=12\")\n",
       " (dim=24|id=299|\"Boson,Site,n=13\")\n",
       " (dim=24|id=66|\"Boson,Site,n=14\")\n",
       " (dim=24|id=704|\"Boson,Site,n=15\")\n",
       " (dim=24|id=443|\"Boson,Site,n=16\")\n",
       " (dim=24|id=129|\"Boson,Site,n=17\")\n",
       " (dim=24|id=33|\"Boson,Site,n=18\")\n",
       " (dim=24|id=196|\"Boson,Site,n=19\")\n",
       " (dim=24|id=82|\"Boson,Site,n=20\")\n",
       " (dim=24|id=155|\"Boson,Site,n=21\")\n",
       " (dim=24|id=557|\"Boson,Site,n=22\")\n",
       " (dim=24|id=718|\"Boson,Site,n=23\")\n",
       " (dim=24|id=481|\"Boson,Site,n=24\")"
      ]
     },
     "execution_count": 3,
     "metadata": {},
     "output_type": "execute_result"
    }
   ],
   "source": [
    "using ITensors\n",
    "N_modes = 24\n",
    "fock_truncation = 7\n",
    "cos_truncation = 5\n",
    "N_Junctions = 10\n",
    "\n",
    "sites = siteinds(\"Boson\",N_modes,dim=24)"
   ]
  },
  {
   "cell_type": "code",
   "execution_count": 4,
   "id": "4a5ab6d8",
   "metadata": {},
   "outputs": [
    {
     "data": {
      "text/plain": [
       "sum(\n",
       "  1.0 N(1,)\n",
       "  1.0 N(2,)\n",
       "  1.0 N(3,)\n",
       "  1.0 N(4,)\n",
       "  1.0 N(5,)\n",
       "  1.0 N(6,)\n",
       "  1.0 N(7,)\n",
       "  1.0 N(8,)\n",
       "  1.0 N(9,)\n",
       "  1.0 N(10,)\n",
       "  1.0 N(11,)\n",
       "  1.0 N(12,)\n",
       "  1.0 N(13,)\n",
       "  1.0 N(14,)\n",
       "  1.0 N(15,)\n",
       "  1.0 N(16,)\n",
       "  1.0 N(17,)\n",
       "  1.0 N(18,)\n",
       "  1.0 N(19,)\n",
       "  1.0 N(20,)\n",
       "  1.0 N(21,)\n",
       "  1.0 N(22,)\n",
       "  1.0 N(23,)\n",
       "  1.0 N(24,)\n",
       ")"
      ]
     },
     "execution_count": 4,
     "metadata": {},
     "output_type": "execute_result"
    }
   ],
   "source": [
    "#Linear part\n",
    "mode_freqs = [1 for i in 1:N_modes]\n",
    "H_lin = OpSum()\n",
    "for m in 1:N_modes\n",
    "   H_lin += mode_freqs[m],\"N\",m\n",
    "end\n",
    "H_lin"
   ]
  },
  {
   "cell_type": "code",
   "execution_count": 5,
   "id": "eeb1423c",
   "metadata": {},
   "outputs": [
    {
     "ename": "LoadError",
     "evalue": "BoundsError: attempt to access 0-element Vector{Int64} at index [1]",
     "output_type": "error",
     "traceback": [
      "BoundsError: attempt to access 0-element Vector{Int64} at index [1]",
      "",
      "Stacktrace:",
      " [1] getindex",
      "   @ ./array.jl:924 [inlined]",
      " [2] first(a::Vector{Int64})",
      "   @ Base ./abstractarray.jl:404",
      " [3] split(f::Function, t::Tuple{Sum{Scaled{ComplexF64, Prod{Op}}}, Vector{Index{Int64}}})",
      "   @ ITensors.Ops ~/.julia/packages/ITensors/GbZMQ/src/Ops/Ops.jl:26",
      " [4] op_term(a::Tuple{Sum{Scaled{ComplexF64, Prod{Op}}}, Vector{Index{Int64}}})",
      "   @ ITensors.Ops ~/.julia/packages/ITensors/GbZMQ/src/Ops/Ops.jl:246",
      " [5] op_term",
      "   @ ~/.julia/packages/ITensors/GbZMQ/src/Ops/Ops.jl:229 [inlined]",
      " [6] +(o1::Sum{Scaled{ComplexF64, Prod{Op}}}, o2::Tuple{Float64, Sum{Scaled{ComplexF64, Prod{Op}}}, Vector{Index{Int64}}})",
      "   @ ITensors.Ops ~/.julia/packages/ITensors/GbZMQ/src/Ops/Ops.jl:258",
      " [7] top-level scope",
      "   @ ./In[5]:23"
     ]
    }
   ],
   "source": [
    "#non Linear Part\n",
    "jun_freqs = [1 for i in 1:N_Junctions]\n",
    "ϕ_freqs = ones(N_Junctions,N_modes)\n",
    "\n",
    "os_nl = OpSum()\n",
    "\n",
    "ϕ=0\n",
    "cosine=0\n",
    "c_p = 0\n",
    "for j in 1:N_Junctions\n",
    "    jun_freq = jun_freqs[j]\n",
    "    #define ϕj \n",
    "    ϕ = OpSum()\n",
    "    for m in 1:N_modes\n",
    "        freq = ϕ_freqs[j,m]\n",
    "        ϕ += freq, \"a\",m\n",
    "        ϕ += freq, \"a†\",m\n",
    "    end\n",
    "    cosine = OpSum()\n",
    "    for p in 4:2*cos_truncation\n",
    "       if p%2 == 0\n",
    "            c_p = (-1)^(p/2)/(factorial(p))\n",
    "            cosine += c_p, ϕ, sites\n",
    "        end\n",
    "    end\n",
    "    os_nl += -jun_freq,cosine\n",
    "    \n",
    "end\n",
    "        "
   ]
  },
  {
   "cell_type": "code",
   "execution_count": 8,
   "id": "524067a5",
   "metadata": {},
   "outputs": [],
   "source": [
    "ϕ = OpSum()\n",
    "for m in 1:N_modes\n",
    "    freq = ϕ_freqs[2,m]\n",
    "    ϕ += freq, \"a\",m\n",
    "    ϕ += freq, \"a†\",m\n",
    "end"
   ]
  },
  {
   "cell_type": "code",
   "execution_count": 9,
   "id": "0b2516e5",
   "metadata": {
    "scrolled": true
   },
   "outputs": [
    {
     "data": {
      "text/plain": [
       "sum(\n",
       "  1.0 a(1,)\n",
       "  1.0 a†(1,)\n",
       "  1.0 a(2,)\n",
       "  1.0 a†(2,)\n",
       "  1.0 a(3,)\n",
       "  1.0 a†(3,)\n",
       "  1.0 a(4,)\n",
       "  1.0 a†(4,)\n",
       "  1.0 a(5,)\n",
       "  1.0 a†(5,)\n",
       "  1.0 a(6,)\n",
       "  1.0 a†(6,)\n",
       "  1.0 a(7,)\n",
       "  1.0 a†(7,)\n",
       "  1.0 a(8,)\n",
       "  1.0 a†(8,)\n",
       "  1.0 a(9,)\n",
       "  1.0 a†(9,)\n",
       "  1.0 a(10,)\n",
       "  1.0 a†(10,)\n",
       "  1.0 a(11,)\n",
       "  1.0 a†(11,)\n",
       "  1.0 a(12,)\n",
       "  1.0 a†(12,)\n",
       "  1.0 a(13,)\n",
       "  1.0 a†(13,)\n",
       "  1.0 a(14,)\n",
       "  1.0 a†(14,)\n",
       "  1.0 a(15,)\n",
       "  1.0 a†(15,)\n",
       "  1.0 a(16,)\n",
       "  1.0 a†(16,)\n",
       "  1.0 a(17,)\n",
       "  1.0 a†(17,)\n",
       "  1.0 a(18,)\n",
       "  1.0 a†(18,)\n",
       "  1.0 a(19,)\n",
       "  1.0 a†(19,)\n",
       "  1.0 a(20,)\n",
       "  1.0 a†(20,)\n",
       "  1.0 a(21,)\n",
       "  1.0 a†(21,)\n",
       "  1.0 a(22,)\n",
       "  1.0 a†(22,)\n",
       "  1.0 a(23,)\n",
       "  1.0 a†(23,)\n",
       "  1.0 a(24,)\n",
       "  1.0 a†(24,)\n",
       ")"
      ]
     },
     "execution_count": 9,
     "metadata": {},
     "output_type": "execute_result"
    }
   ],
   "source": [
    "cos = OpSum()\n"
   ]
  },
  {
   "cell_type": "code",
   "execution_count": 7,
   "id": "c44bde04",
   "metadata": {},
   "outputs": [
    {
     "data": {
      "text/plain": [
       "sum(\n",
       "  1.0 a(1,)\n",
       ")"
      ]
     },
     "execution_count": 7,
     "metadata": {},
     "output_type": "execute_result"
    }
   ],
   "source": [
    "ϕ = OpSum()\n",
    "ϕ += 1, \"a\",1"
   ]
  },
  {
   "cell_type": "code",
   "execution_count": 9,
   "id": "ca85b70f",
   "metadata": {},
   "outputs": [
    {
     "ename": "LoadError",
     "evalue": "MethodError: no method matching MPO(::Prod{Sum{Scaled{ComplexF64, Prod{Op}}}}, ::Vector{Index{Int64}})\n\u001b[0mClosest candidates are:\n\u001b[0m  MPO(::Any, ::Any, \u001b[91m::Any\u001b[39m) at C:\\Users\\erui\\.julia\\packages\\ITensors\\LXBUp\\src\\mps\\mpo.jl:9\n\u001b[0m  MPO(\u001b[91m::ITensors.LazyApply.Applied{typeof(sum), Tuple{Array{ITensors.LazyApply.Applied{typeof(*), Tuple{C, Op}, NamedTuple{(), Tuple{}}}, 1}}, NamedTuple{(), Tuple{}}}\u001b[39m, ::Vector{<:Index}; kwargs...) where C at C:\\Users\\erui\\.julia\\packages\\ITensors\\LXBUp\\src\\physics\\autompo\\opsum_to_mpo_generic.jl:281\n\u001b[0m  MPO(\u001b[91m::ITensors.LazyApply.Applied{typeof(*), Tuple{C, Prod{Op}}, NamedTuple{(), Tuple{}}}\u001b[39m, ::Vector{<:Index}; kwargs...) where C at C:\\Users\\erui\\.julia\\packages\\ITensors\\LXBUp\\src\\physics\\autompo\\opsum_to_mpo_generic.jl:277\n\u001b[0m  ...",
     "output_type": "error",
     "traceback": [
      "MethodError: no method matching MPO(::Prod{Sum{Scaled{ComplexF64, Prod{Op}}}}, ::Vector{Index{Int64}})\n\u001b[0mClosest candidates are:\n\u001b[0m  MPO(::Any, ::Any, \u001b[91m::Any\u001b[39m) at C:\\Users\\erui\\.julia\\packages\\ITensors\\LXBUp\\src\\mps\\mpo.jl:9\n\u001b[0m  MPO(\u001b[91m::ITensors.LazyApply.Applied{typeof(sum), Tuple{Array{ITensors.LazyApply.Applied{typeof(*), Tuple{C, Op}, NamedTuple{(), Tuple{}}}, 1}}, NamedTuple{(), Tuple{}}}\u001b[39m, ::Vector{<:Index}; kwargs...) where C at C:\\Users\\erui\\.julia\\packages\\ITensors\\LXBUp\\src\\physics\\autompo\\opsum_to_mpo_generic.jl:281\n\u001b[0m  MPO(\u001b[91m::ITensors.LazyApply.Applied{typeof(*), Tuple{C, Prod{Op}}, NamedTuple{(), Tuple{}}}\u001b[39m, ::Vector{<:Index}; kwargs...) where C at C:\\Users\\erui\\.julia\\packages\\ITensors\\LXBUp\\src\\physics\\autompo\\opsum_to_mpo_generic.jl:277\n\u001b[0m  ...",
      "",
      "Stacktrace:",
      " [1] top-level scope",
      "   @ In[9]:1"
     ]
    }
   ],
   "source": [
    "MPO(ϕ^2,sites)"
   ]
  },
  {
   "cell_type": "code",
   "execution_count": 71,
   "id": "290351b5",
   "metadata": {},
   "outputs": [
    {
     "data": {
      "text/plain": [
       "4-element Vector{Index{Int64}}:\n",
       " (dim=9|id=388|\"Boson,Site,n=1\")\n",
       " (dim=9|id=178|\"Boson,Site,n=2\")\n",
       " (dim=9|id=154|\"Boson,Site,n=3\")\n",
       " (dim=9|id=547|\"Boson,Site,n=4\")"
      ]
     },
     "execution_count": 71,
     "metadata": {},
     "output_type": "execute_result"
    }
   ],
   "source": [
    "using ITensors\n",
    "N_modes = 4\n",
    "fock_truncation = 9\n",
    "#cos_truncation = 5\n",
    "N_Junctions = 10\n",
    "\n",
    "sites = siteinds(\"Boson\",N_modes,dim=fock_truncation)\n"
   ]
  },
  {
   "cell_type": "code",
   "execution_count": 72,
   "id": "22f33175",
   "metadata": {},
   "outputs": [
    {
     "data": {
      "text/plain": [
       "6561×6561 Matrix{ComplexF64}:\n",
       "  -4.26667+0.0im       0.0+0.0im  …      0.0+0.0im       0.0+0.0im\n",
       "       0.0+0.0im  -5.93333+0.0im         0.0+0.0im       0.0+0.0im\n",
       "  -1.88562+0.0im       0.0+0.0im         0.0+0.0im       0.0+0.0im\n",
       "       0.0+0.0im  -2.72166+0.0im         0.0+0.0im       0.0+0.0im\n",
       "  0.272166+0.0im       0.0+0.0im         0.0+0.0im       0.0+0.0im\n",
       "       0.0+0.0im  0.973729+0.0im  …      0.0+0.0im       0.0+0.0im\n",
       "  0.149071+0.0im       0.0+0.0im         0.0+0.0im       0.0+0.0im\n",
       "       0.0+0.0im  0.445115+0.0im         0.0+0.0im       0.0+0.0im\n",
       " 0.0179284+0.0im       0.0+0.0im         0.0+0.0im       0.0+0.0im\n",
       "       0.0+0.0im  -2.66667+0.0im         0.0+0.0im       0.0+0.0im\n",
       "  -2.66667+0.0im       0.0+0.0im  …      0.0+0.0im       0.0+0.0im\n",
       "       0.0+0.0im  -2.82843+0.0im         0.0+0.0im       0.0+0.0im\n",
       "  0.544331+0.0im       0.0+0.0im         0.0+0.0im       0.0+0.0im\n",
       "          ⋮                       ⋱                         ⋮\n",
       "       0.0+0.0im       0.0+0.0im     18302.0+0.0im       0.0+0.0im\n",
       "       0.0+0.0im       0.0+0.0im  …      0.0+0.0im   14828.3+0.0im\n",
       "       0.0+0.0im       0.0+0.0im     14828.3+0.0im       0.0+0.0im\n",
       "       0.0+0.0im       0.0+0.0im         0.0+0.0im  0.227093+0.0im\n",
       "       0.0+0.0im       0.0+0.0im     23.3699+0.0im       0.0+0.0im\n",
       "       0.0+0.0im       0.0+0.0im         0.0+0.0im   46.5793+0.0im\n",
       "       0.0+0.0im       0.0+0.0im  …  983.106+0.0im       0.0+0.0im\n",
       "       0.0+0.0im       0.0+0.0im         0.0+0.0im   1349.98+0.0im\n",
       "       0.0+0.0im       0.0+0.0im     8322.59+0.0im       0.0+0.0im\n",
       "       0.0+0.0im       0.0+0.0im         0.0+0.0im   8377.74+0.0im\n",
       "       0.0+0.0im       0.0+0.0im     16493.5+0.0im       0.0+0.0im\n",
       "       0.0+0.0im       0.0+0.0im  …      0.0+0.0im    8657.8+0.0im"
      ]
     },
     "execution_count": 72,
     "metadata": {},
     "output_type": "execute_result"
    }
   ],
   "source": [
    "using PyCall\n",
    "a_julia = pyimport(\"numpy\").load(\"array.npy\")"
   ]
  },
  {
   "cell_type": "code",
   "execution_count": 73,
   "id": "b7ce3d50",
   "metadata": {},
   "outputs": [
    {
     "data": {
      "text/plain": [
       "ITensor ord=8 (dim=9|id=388|\"Boson,Site,n=1\")' (dim=9|id=178|\"Boson,Site,n=2\")' (dim=9|id=154|\"Boson,Site,n=3\")' (dim=9|id=547|\"Boson,Site,n=4\")' (dim=9|id=388|\"Boson,Site,n=1\") (dim=9|id=178|\"Boson,Site,n=2\") (dim=9|id=154|\"Boson,Site,n=3\") (dim=9|id=547|\"Boson,Site,n=4\")\n",
       "NDTensors.Dense{ComplexF64, Vector{ComplexF64}}"
      ]
     },
     "execution_count": 73,
     "metadata": {},
     "output_type": "execute_result"
    }
   ],
   "source": [
    "x = op(a_julia, sites)"
   ]
  },
  {
   "cell_type": "code",
   "execution_count": 75,
   "id": "1bfecdcd",
   "metadata": {
    "scrolled": true
   },
   "outputs": [
    {
     "ename": "LoadError",
     "evalue": "OutOfMemoryError()",
     "output_type": "error",
     "traceback": [
      "OutOfMemoryError()",
      "",
      "Stacktrace:",
      "  [1] Array",
      "    @ .\\boot.jl:461 [inlined]",
      "  [2] Array",
      "    @ .\\boot.jl:469 [inlined]",
      "  [3] Array",
      "    @ .\\array.jl:626 [inlined]",
      "  [4] Matrix{ComplexF64}(Q::LinearAlgebra.QRCompactWYQ{ComplexF64, Matrix{ComplexF64}, Matrix{ComplexF64}})",
      "    @ LinearAlgebra C:\\Users\\erui\\AppData\\Local\\Programs\\Julia-1.8.5\\share\\julia\\stdlib\\v1.8\\LinearAlgebra\\src\\qr.jl:575",
      "  [5] Array",
      "    @ C:\\Users\\erui\\AppData\\Local\\Programs\\Julia-1.8.5\\share\\julia\\stdlib\\v1.8\\LinearAlgebra\\src\\qr.jl:576 [inlined]",
      "  [6] qr(T::NDTensors.DenseTensor{ComplexF64, 2, Tuple{Index{Int64}, Index{Int64}}, NDTensors.Dense{ComplexF64, Vector{ComplexF64}}}; kwargs::Base.Pairs{Symbol, String, Tuple{Symbol, Symbol}, NamedTuple{(:tags, :ortho), Tuple{String, String}}})",
      "    @ NDTensors C:\\Users\\erui\\.julia\\packages\\NDTensors\\0Qai0\\src\\linearalgebra.jl:405",
      "  [7] #qr#89",
      "    @ C:\\Users\\erui\\.julia\\packages\\NDTensors\\0Qai0\\src\\dense\\dense.jl:973 [inlined]",
      "  [8] qr(A::ITensor, Linds::Vector{Index{Int64}}; kwargs::Base.Pairs{Symbol, String, Tuple{Symbol, Symbol}, NamedTuple{(:tags, :ortho), Tuple{String, String}}})",
      "    @ ITensors C:\\Users\\erui\\.julia\\packages\\ITensors\\LXBUp\\src\\tensor_operations\\matrix_decomposition.jl:397",
      "  [9] #factorize_qr#307",
      "    @ C:\\Users\\erui\\.julia\\packages\\ITensors\\LXBUp\\src\\tensor_operations\\matrix_decomposition.jl:431 [inlined]",
      " [10] factorize(A::ITensor, Linds::Vector{Index{Int64}}; kwargs::Base.Pairs{Symbol, String, Tuple{Symbol, Symbol}, NamedTuple{(:tags, :ortho), Tuple{String, String}}})",
      "    @ ITensors C:\\Users\\erui\\.julia\\packages\\ITensors\\LXBUp\\src\\tensor_operations\\matrix_decomposition.jl:597",
      " [11] MPO(A::ITensor, sites::Vector{Vector{Index{Int64}}}; leftinds::Nothing, orthocenter::Int64, kwargs::Base.Pairs{Symbol, Union{}, Tuple{}, NamedTuple{(), Tuple{}}})",
      "    @ ITensors C:\\Users\\erui\\.julia\\packages\\ITensors\\LXBUp\\src\\mps\\abstractmps.jl:1934",
      " [12] AbstractMPS",
      "    @ C:\\Users\\erui\\.julia\\packages\\ITensors\\LXBUp\\src\\mps\\abstractmps.jl:1912 [inlined]",
      " [13] MPO(A::ITensor, sites::Vector{Index{Int64}}; kwargs::Base.Pairs{Symbol, Union{}, Tuple{}, NamedTuple{(), Tuple{}}})",
      "    @ ITensors C:\\Users\\erui\\.julia\\packages\\ITensors\\LXBUp\\src\\mps\\mpo.jl:131",
      " [14] MPO(A::ITensor, sites::Vector{Index{Int64}})",
      "    @ ITensors C:\\Users\\erui\\.julia\\packages\\ITensors\\LXBUp\\src\\mps\\mpo.jl:130",
      " [15] top-level scope",
      "    @ In[75]:2"
     ]
    }
   ],
   "source": [
    "H = MPO(x,sites)"
   ]
  },
  {
   "cell_type": "code",
   "execution_count": 68,
   "id": "a064e079",
   "metadata": {},
   "outputs": [
    {
     "data": {
      "text/plain": [
       "MPS\n",
       "[1] ((dim=24|id=498|\"Boson,Site,n=1\"), (dim=20|id=712|\"Link,l=1\"))\n",
       "[2] ((dim=20|id=712|\"Link,l=1\"), (dim=24|id=672|\"Boson,Site,n=2\"), (dim=20|id=632|\"Link,l=2\"))\n",
       "[3] ((dim=20|id=632|\"Link,l=2\"), (dim=24|id=169|\"Boson,Site,n=3\"), (dim=20|id=265|\"Link,l=3\"))\n",
       "[4] ((dim=20|id=265|\"Link,l=3\"), (dim=24|id=627|\"Boson,Site,n=4\"), (dim=20|id=673|\"Link,l=4\"))\n",
       "[5] ((dim=20|id=673|\"Link,l=4\"), (dim=24|id=801|\"Boson,Site,n=5\"), (dim=20|id=299|\"Link,l=5\"))\n",
       "[6] ((dim=20|id=299|\"Link,l=5\"), (dim=24|id=289|\"Boson,Site,n=6\"), (dim=20|id=382|\"Link,l=6\"))\n",
       "[7] ((dim=20|id=382|\"Link,l=6\"), (dim=24|id=829|\"Boson,Site,n=7\"), (dim=20|id=691|\"Link,l=7\"))\n",
       "[8] ((dim=20|id=691|\"Link,l=7\"), (dim=24|id=197|\"Boson,Site,n=8\"), (dim=20|id=23|\"Link,l=8\"))\n",
       "[9] ((dim=20|id=23|\"Link,l=8\"), (dim=24|id=996|\"Boson,Site,n=9\"), (dim=20|id=954|\"Link,l=9\"))\n",
       "[10] ((dim=20|id=954|\"Link,l=9\"), (dim=24|id=236|\"Boson,Site,n=10\"), (dim=20|id=560|\"Link,l=10\"))\n",
       "[11] ((dim=20|id=560|\"Link,l=10\"), (dim=24|id=783|\"Boson,Site,n=11\"), (dim=20|id=71|\"Link,l=11\"))\n",
       "[12] ((dim=20|id=71|\"Link,l=11\"), (dim=24|id=634|\"Boson,Site,n=12\"), (dim=20|id=341|\"Link,l=12\"))\n",
       "[13] ((dim=20|id=341|\"Link,l=12\"), (dim=24|id=248|\"Boson,Site,n=13\"), (dim=20|id=656|\"Link,l=13\"))\n",
       "[14] ((dim=20|id=656|\"Link,l=13\"), (dim=24|id=372|\"Boson,Site,n=14\"), (dim=20|id=487|\"Link,l=14\"))\n",
       "[15] ((dim=20|id=487|\"Link,l=14\"), (dim=24|id=305|\"Boson,Site,n=15\"), (dim=20|id=850|\"Link,l=15\"))\n",
       "[16] ((dim=20|id=850|\"Link,l=15\"), (dim=24|id=842|\"Boson,Site,n=16\"), (dim=20|id=311|\"Link,l=16\"))\n",
       "[17] ((dim=20|id=311|\"Link,l=16\"), (dim=24|id=311|\"Boson,Site,n=17\"), (dim=20|id=654|\"Link,l=17\"))\n",
       "[18] ((dim=20|id=654|\"Link,l=17\"), (dim=24|id=116|\"Boson,Site,n=18\"), (dim=20|id=71|\"Link,l=18\"))\n",
       "[19] ((dim=20|id=71|\"Link,l=18\"), (dim=24|id=735|\"Boson,Site,n=19\"), (dim=20|id=563|\"Link,l=19\"))\n",
       "[20] ((dim=20|id=563|\"Link,l=19\"), (dim=24|id=31|\"Boson,Site,n=20\"), (dim=20|id=549|\"Link,l=20\"))\n",
       "[21] ((dim=20|id=549|\"Link,l=20\"), (dim=24|id=566|\"Boson,Site,n=21\"), (dim=20|id=553|\"Link,l=21\"))\n",
       "[22] ((dim=20|id=553|\"Link,l=21\"), (dim=24|id=454|\"Boson,Site,n=22\"), (dim=20|id=277|\"Link,l=22\"))\n",
       "[23] ((dim=20|id=277|\"Link,l=22\"), (dim=24|id=627|\"Boson,Site,n=23\"), (dim=20|id=319|\"Link,l=23\"))\n",
       "[24] ((dim=20|id=319|\"Link,l=23\"), (dim=24|id=779|\"Boson,Site,n=24\"))\n"
      ]
     },
     "execution_count": 68,
     "metadata": {},
     "output_type": "execute_result"
    }
   ],
   "source": [
    "ψ0 = randomMPS(sites,20)"
   ]
  },
  {
   "cell_type": "code",
   "execution_count": 54,
   "id": "a8d9e702",
   "metadata": {},
   "outputs": [
    {
     "data": {
      "text/plain": [
       "1-element Vector{Float64}:\n",
       " 1.0e-10"
      ]
     },
     "execution_count": 54,
     "metadata": {},
     "output_type": "execute_result"
    }
   ],
   "source": [
    "nsweeps = 100\n",
    "maxdim = [10,20,100,100,200]\n",
    "cutoff = [1E-10]"
   ]
  },
  {
   "cell_type": "code",
   "execution_count": 55,
   "id": "5e4acd8a",
   "metadata": {},
   "outputs": [
    {
     "name": "stdout",
     "output_type": "stream",
     "text": [
      "After sweep 1 energy=-36.27688310167332  maxlinkdim=9 maxerr=0.00E+00 time=0.011\n",
      "After sweep 2 energy=-44.95190826140668  maxlinkdim=9 maxerr=0.00E+00 time=0.011\n",
      "After sweep 3 energy=-45.5498764499584  maxlinkdim=9 maxerr=0.00E+00 time=0.012\n",
      "After sweep 4 energy=-45.68836142062875  maxlinkdim=9 maxerr=0.00E+00 time=0.011\n",
      "After sweep 5 energy=-45.754007189031036  maxlinkdim=9 maxerr=0.00E+00 time=0.010\n",
      "After sweep 6 energy=-45.797626034323784  maxlinkdim=8 maxerr=4.13E-11 time=0.011\n",
      "After sweep 7 energy=-45.829743603092204  maxlinkdim=9 maxerr=0.00E+00 time=0.013\n",
      "After sweep 8 energy=-45.85382926967844  maxlinkdim=9 maxerr=0.00E+00 time=0.011\n",
      "After sweep 9 energy=-45.87212022743788  maxlinkdim=9 maxerr=0.00E+00 time=0.011\n",
      "After sweep 10 energy=-45.886150568892795  maxlinkdim=9 maxerr=0.00E+00 time=0.012\n",
      "After sweep 11 energy=-45.8970034941918  maxlinkdim=9 maxerr=0.00E+00 time=0.015\n",
      "After sweep 12 energy=-45.90546066904234  maxlinkdim=9 maxerr=0.00E+00 time=0.013\n",
      "After sweep 13 energy=-45.91209555881023  maxlinkdim=9 maxerr=0.00E+00 time=0.013\n",
      "After sweep 14 energy=-45.91733416376828  maxlinkdim=9 maxerr=0.00E+00 time=0.012\n",
      "After sweep 15 energy=-45.92149595525544  maxlinkdim=9 maxerr=0.00E+00 time=0.012\n",
      "After sweep 16 energy=-45.924822302454025  maxlinkdim=9 maxerr=0.00E+00 time=0.012\n",
      "After sweep 17 energy=-45.9274966888696  maxlinkdim=9 maxerr=0.00E+00 time=0.012\n",
      "After sweep 18 energy=-45.92965935115996  maxlinkdim=9 maxerr=0.00E+00 time=0.012\n",
      "After sweep 19 energy=-45.93141801839507  maxlinkdim=9 maxerr=0.00E+00 time=0.012\n",
      "After sweep 20 energy=-45.932855863756366  maxlinkdim=9 maxerr=0.00E+00 time=0.581\n",
      "After sweep 21 energy=-45.934037431080576  maxlinkdim=9 maxerr=0.00E+00 time=0.008\n",
      "After sweep 22 energy=-45.93501307340418  maxlinkdim=9 maxerr=0.00E+00 time=0.010\n",
      "After sweep 23 energy=-45.935822289719844  maxlinkdim=9 maxerr=0.00E+00 time=0.010\n",
      "After sweep 24 energy=-45.93649624161417  maxlinkdim=9 maxerr=0.00E+00 time=0.010\n",
      "After sweep 25 energy=-45.93705965719599  maxlinkdim=9 maxerr=0.00E+00 time=0.010\n",
      "After sweep 26 energy=-45.93753227600556  maxlinkdim=9 maxerr=0.00E+00 time=0.011\n",
      "After sweep 27 energy=-45.9379299492555  maxlinkdim=9 maxerr=0.00E+00 time=0.009\n",
      "After sweep 28 energy=-45.93826548070905  maxlinkdim=9 maxerr=0.00E+00 time=0.011\n",
      "After sweep 29 energy=-45.93854927195487  maxlinkdim=9 maxerr=0.00E+00 time=0.013\n",
      "After sweep 30 energy=-45.9387898198001  maxlinkdim=9 maxerr=0.00E+00 time=0.012\n",
      "After sweep 31 energy=-45.93899410154879  maxlinkdim=9 maxerr=0.00E+00 time=0.013\n",
      "After sweep 32 energy=-45.93916787501058  maxlinkdim=9 maxerr=0.00E+00 time=0.018\n",
      "After sweep 33 energy=-45.93931591342009  maxlinkdim=9 maxerr=0.00E+00 time=0.013\n",
      "After sweep 34 energy=-45.939442190468164  maxlinkdim=9 maxerr=0.00E+00 time=0.015\n",
      "After sweep 35 energy=-45.93955002692098  maxlinkdim=9 maxerr=0.00E+00 time=0.012\n",
      "After sweep 36 energy=-45.93964220751579  maxlinkdim=9 maxerr=0.00E+00 time=0.010\n",
      "After sweep 37 energy=-45.939721074732496  maxlinkdim=9 maxerr=0.00E+00 time=0.010\n",
      "After sweep 38 energy=-45.93978860447225  maxlinkdim=9 maxerr=0.00E+00 time=0.011\n",
      "After sweep 39 energy=-45.939846467494824  maxlinkdim=9 maxerr=0.00E+00 time=0.012\n",
      "After sweep 40 energy=-45.93989607957769  maxlinkdim=9 maxerr=0.00E+00 time=0.010\n",
      "After sweep 41 energy=-45.93993864268707  maxlinkdim=9 maxerr=0.00E+00 time=0.011\n",
      "After sweep 42 energy=-45.939975178941914  maxlinkdim=9 maxerr=0.00E+00 time=0.009\n",
      "After sweep 43 energy=-45.940006558763  maxlinkdim=9 maxerr=0.00E+00 time=0.011\n",
      "After sweep 44 energy=-45.940033524302514  maxlinkdim=9 maxerr=0.00E+00 time=0.011\n",
      "After sweep 45 energy=-45.940056709021114  maxlinkdim=9 maxerr=0.00E+00 time=0.009\n",
      "After sweep 46 energy=-45.94007665410342  maxlinkdim=9 maxerr=0.00E+00 time=0.011\n",
      "After sweep 47 energy=-45.940093822265496  maxlinkdim=9 maxerr=0.00E+00 time=0.012\n",
      "After sweep 48 energy=-45.94010860940105  maxlinkdim=9 maxerr=0.00E+00 time=0.012\n",
      "After sweep 49 energy=-45.94012135442876  maxlinkdim=9 maxerr=0.00E+00 time=0.011\n",
      "After sweep 50 energy=-45.94013234763666  maxlinkdim=9 maxerr=0.00E+00 time=0.008\n",
      "After sweep 51 energy=-45.94014183776634  maxlinkdim=9 maxerr=0.00E+00 time=0.010\n",
      "After sweep 52 energy=-45.940150038037  maxlinkdim=9 maxerr=0.00E+00 time=0.010\n",
      "After sweep 53 energy=-45.94015713127554  maxlinkdim=9 maxerr=0.00E+00 time=0.011\n",
      "After sweep 54 energy=-45.94016327429072  maxlinkdim=9 maxerr=0.00E+00 time=0.010\n",
      "After sweep 55 energy=-45.940168601606615  maxlinkdim=9 maxerr=0.00E+00 time=0.010\n",
      "After sweep 56 energy=-45.94017322865234  maxlinkdim=9 maxerr=0.00E+00 time=0.010\n",
      "After sweep 57 energy=-45.94017725448932  maxlinkdim=9 maxerr=0.00E+00 time=0.011\n",
      "After sweep 58 energy=-45.94018076414458  maxlinkdim=9 maxerr=0.00E+00 time=0.012\n",
      "After sweep 59 energy=-45.94018383060847  maxlinkdim=9 maxerr=0.00E+00 time=0.012\n",
      "After sweep 60 energy=-45.94018651654551  maxlinkdim=9 maxerr=0.00E+00 time=0.011\n",
      "After sweep 61 energy=-45.94018887576058  maxlinkdim=9 maxerr=0.00E+00 time=0.012\n",
      "After sweep 62 energy=-45.94019095445548  maxlinkdim=9 maxerr=0.00E+00 time=0.012\n",
      "After sweep 63 energy=-45.94019279230659  maxlinkdim=9 maxerr=0.00E+00 time=0.010\n",
      "After sweep 64 energy=-45.940194423388846  maxlinkdim=9 maxerr=0.00E+00 time=0.012\n",
      "After sweep 65 energy=-45.940195876968566  maxlinkdim=9 maxerr=0.00E+00 time=0.011\n",
      "After sweep 66 energy=-45.940197178183446  maxlinkdim=9 maxerr=0.00E+00 time=0.011\n",
      "After sweep 67 energy=-45.94019834862615  maxlinkdim=9 maxerr=0.00E+00 time=0.011\n",
      "After sweep 68 energy=-45.94019940684509  maxlinkdim=9 maxerr=0.00E+00 time=0.011\n",
      "After sweep 69 energy=-45.94020036877403  maxlinkdim=9 maxerr=0.00E+00 time=0.023\n",
      "After sweep 70 energy=-45.94020124810098  maxlinkdim=9 maxerr=0.00E+00 time=0.012\n",
      "After sweep 71 energy=-45.9402020565847  maxlinkdim=9 maxerr=0.00E+00 time=0.010\n",
      "After sweep 72 energy=-45.940202804326375  maxlinkdim=9 maxerr=0.00E+00 time=0.011\n",
      "After sweep 73 energy=-45.940203500002845  maxlinkdim=9 maxerr=0.00E+00 time=0.012\n",
      "After sweep 74 energy=-45.940204151066865  maxlinkdim=9 maxerr=0.00E+00 time=0.011\n",
      "After sweep 75 energy=-45.94020476391911  maxlinkdim=9 maxerr=0.00E+00 time=0.011\n",
      "After sweep 76 energy=-45.940205344055904  maxlinkdim=9 maxerr=0.00E+00 time=0.010\n",
      "After sweep 77 energy=-45.94020589619611  maxlinkdim=9 maxerr=0.00E+00 time=0.010\n",
      "After sweep 78 energy=-45.9402064243904  maxlinkdim=9 maxerr=0.00E+00 time=0.023\n",
      "After sweep 79 energy=-45.94020693211497  maxlinkdim=9 maxerr=0.00E+00 time=0.011\n",
      "After sweep 80 energy=-45.94020742235232  maxlinkdim=9 maxerr=0.00E+00 time=0.012\n",
      "After sweep 81 energy=-45.94020789766071  maxlinkdim=9 maxerr=0.00E+00 time=0.019\n",
      "After sweep 82 energy=-45.94020836023391  maxlinkdim=9 maxerr=0.00E+00 time=0.013\n",
      "After sweep 83 energy=-45.940208811952644  maxlinkdim=9 maxerr=0.00E+00 time=0.019\n",
      "After sweep 84 energy=-45.94020925442881  maxlinkdim=9 maxerr=0.00E+00 time=0.012\n",
      "After sweep 85 energy=-45.940209689043556  maxlinkdim=9 maxerr=0.00E+00 time=0.010\n",
      "After sweep 86 energy=-45.94021011698006  maxlinkdim=9 maxerr=0.00E+00 time=0.021\n",
      "After sweep 87 energy=-45.94021053925167  maxlinkdim=9 maxerr=0.00E+00 time=0.011\n",
      "After sweep 88 energy=-45.94021095672606  maxlinkdim=9 maxerr=0.00E+00 time=0.011\n",
      "After sweep 89 energy=-45.94021137014611  maxlinkdim=9 maxerr=0.00E+00 time=0.011\n",
      "After sweep 90 energy=-45.94021178014765  maxlinkdim=9 maxerr=0.00E+00 time=0.012\n",
      "After sweep 91 energy=-45.940212187274916  maxlinkdim=9 maxerr=0.00E+00 time=0.012\n",
      "After sweep 92 energy=-45.940212591993586  maxlinkdim=9 maxerr=0.00E+00 time=0.012\n",
      "After sweep 93 energy=-45.94021299470213  maxlinkdim=9 maxerr=0.00E+00 time=0.011\n",
      "After sweep 94 energy=-45.94021339574146  maxlinkdim=9 maxerr=0.00E+00 time=0.012\n",
      "After sweep 95 energy=-45.94021379540321  maxlinkdim=9 maxerr=0.00E+00 time=0.011\n",
      "After sweep 96 energy=-45.94021419393688  maxlinkdim=9 maxerr=0.00E+00 time=0.012\n",
      "After sweep 97 energy=-45.94021459155588  maxlinkdim=9 maxerr=0.00E+00 time=0.011\n",
      "After sweep 98 energy=-45.940214988442754  maxlinkdim=9 maxerr=0.00E+00 time=0.011\n",
      "After sweep 99 energy=-45.94021538475365  maxlinkdim=9 maxerr=0.00E+00 time=0.011\n",
      "After sweep 100 energy=-45.94021578062209  maxlinkdim=9 maxerr=0.00E+00 time=0.011\n"
     ]
    },
    {
     "data": {
      "text/plain": [
       "(-45.94021578062209, MPS\n",
       "[1] ((dim=9|id=255|\"Link,l=1\"), (dim=9|id=601|\"Boson,Site,n=1\"))\n",
       "[2] ((dim=9|id=968|\"Boson,Site,n=2\"), (dim=9|id=255|\"Link,l=1\"))\n",
       ")"
      ]
     },
     "execution_count": 55,
     "metadata": {},
     "output_type": "execute_result"
    }
   ],
   "source": [
    "energy, ψ = dmrg(H,ψ0; nsweeps, maxdim, cutoff)"
   ]
  },
  {
   "cell_type": "code",
   "execution_count": 53,
   "id": "501967bc",
   "metadata": {},
   "outputs": [
    {
     "data": {
      "text/plain": [
       "-45.886150568892795"
      ]
     },
     "execution_count": 53,
     "metadata": {},
     "output_type": "execute_result"
    }
   ],
   "source": [
    "energy"
   ]
  },
  {
   "cell_type": "code",
   "execution_count": null,
   "id": "a407390c",
   "metadata": {},
   "outputs": [],
   "source": []
  }
 ],
 "metadata": {
  "kernelspec": {
   "display_name": "Julia 1.8.5",
   "language": "julia",
   "name": "julia-1.8"
  },
  "language_info": {
   "file_extension": ".jl",
   "mimetype": "application/julia",
   "name": "julia",
   "version": "1.8.5"
  }
 },
 "nbformat": 4,
 "nbformat_minor": 5
}
