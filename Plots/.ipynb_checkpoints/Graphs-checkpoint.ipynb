{
 "cells": [
  {
   "cell_type": "code",
   "execution_count": 65,
   "id": "5eefe7d4",
   "metadata": {},
   "outputs": [],
   "source": [
    "import json\n",
    "import matplotlib.pyplot as plt\n",
    "import numpy as np"
   ]
  },
  {
   "cell_type": "code",
   "execution_count": 66,
   "id": "f0a75348",
   "metadata": {},
   "outputs": [],
   "source": [
    "def import_data(filename):\n",
    "    with open(filename,'r') as f:\n",
    "        data = json.load(f)\n",
    "        \n",
    "    H_creation_time =  [sim[\"Time_H\"] for sim in data[\"Simulations\"]]\n",
    "    brute_force_timings = [sim[\"Time_Qutip\"] for sim in data[\"Simulations\"]]\n",
    "    DMRG_timings = [sim[\"Time_Julia\"] for sim in data[\"Simulations\"]]\n",
    "    n_modes =  [sim[\"n_modes\"] for sim in data[\"Simulations\"]]\n",
    "    Relative_Error = [sim[\"Realative_Error\"] for sim in data[\"Simulations\"]]\n",
    "    Qutip_Evals = [sim[\"Qutip Evals\"] for sim in data[\"Simulations\"]]\n",
    "    DMRG_Evals = [sim[\"DMRG evals\"] for sim in data[\"Simulations\"]]\n",
    "    return H_creation_time, brute_force_timings, DMRG_timings,n_modes,Relative_Error,Qutip_Evals,DMRG_Evals"
   ]
  },
  {
   "cell_type": "markdown",
   "id": "e81a9b4d",
   "metadata": {},
   "source": [
    "# Brute Force diagonalization vs DMRG\n",
    "#### Changing the number of modes  we confront Qutip diagonalization time vs DMRG"
   ]
  },
  {
   "cell_type": "code",
   "execution_count": 67,
   "id": "4c8753d0",
   "metadata": {},
   "outputs": [],
   "source": [
    "H_creation_time, brute_force_timings, DMRG_timings,n_modes,Relative_Error,Qutip_Evals,DMRG_Evals = import_data('../DMRG_time_bench.json')\n",
    "    "
   ]
  },
  {
   "cell_type": "code",
   "execution_count": 77,
   "id": "db0c5c16",
   "metadata": {
    "scrolled": false
   },
   "outputs": [
    {
     "data": {
      "text/plain": [
       "[Text(0.1, 0, '2'), Text(1.1, 0, '3'), Text(2.1, 0, '4')]"
      ]
     },
     "execution_count": 77,
     "metadata": {},
     "output_type": "execute_result"
    },
    {
     "data": {
      "image/png": "[encoded data removed]",
      "text/plain": [
       "<Figure size 720x432 with 1 Axes>"
      ]
     },
     "metadata": {
      "needs_background": "light"
     },
     "output_type": "display_data"
    }
   ],
   "source": [
    "fig, ax = plt.subplots(1, 1, figsize=(10, 6))\n",
    "bar_width = .2\n",
    "x = np.arange(len(n_modes))\n",
    "\n",
    "ax.bar(x,\n",
    "       brute_force_timings,\n",
    "       width=bar_width,\n",
    "       label = 'Brute Force')\n",
    "\n",
    "ax.bar(x + bar_width,\n",
    "       DMRG_timings,\n",
    "       width=bar_width,\n",
    "       label='DMRG')\n",
    "\n",
    "\n",
    "ax.legend()\n",
    "\n",
    "ax.set_title('Brute Force vs DMRG')\n",
    "ax.set_ylabel('Time [s]')\n",
    "ax.set_xlabel('# of modes')\n",
    "\n",
    "ax.set_xticks(x + bar_width/2 )\n",
    "ax.set_xticklabels(n_modes)"
   ]
  },
  {
   "cell_type": "code",
   "execution_count": 86,
   "id": "681e2b1c",
   "metadata": {},
   "outputs": [],
   "source": [
    "Relative_Error_ave = abs(np.array([np.mean(error[1:]) for error in Relative_Error]))\n",
    "\n"
   ]
  },
  {
   "cell_type": "code",
   "execution_count": 81,
   "id": "7b4fb429",
   "metadata": {},
   "outputs": [
    {
     "data": {
      "text/plain": [
       "array([None, -2.9630448163687143e-05], dtype=object)"
      ]
     },
     "execution_count": 81,
     "metadata": {},
     "output_type": "execute_result"
    }
   ],
   "source": [
    "np.mean(Relative_Error[0])"
   ]
  },
  {
   "cell_type": "code",
   "execution_count": 87,
   "id": "5e146497",
   "metadata": {},
   "outputs": [
    {
     "data": {
      "text/plain": [
       "array([2.96304482e-05, 2.36096472e-05, 8.32005852e-04])"
      ]
     },
     "execution_count": 87,
     "metadata": {},
     "output_type": "execute_result"
    }
   ],
   "source": [
    "Relative_Error_ave"
   ]
  },
  {
   "cell_type": "code",
   "execution_count": null,
   "id": "c2363293",
   "metadata": {},
   "outputs": [],
   "source": []
  }
 ],
 "metadata": {
  "kernelspec": {
   "display_name": "Python 3 (ipykernel)",
   "language": "python",
   "name": "python3"
  },
  "language_info": {
   "codemirror_mode": {
    "name": "ipython",
    "version": 3
   },
   "file_extension": ".py",
   "mimetype": "text/x-python",
   "name": "python",
   "nbconvert_exporter": "python",
   "pygments_lexer": "ipython3",
   "version": "3.10.6"
  }
 },
 "nbformat": 4,
 "nbformat_minor": 5
}
