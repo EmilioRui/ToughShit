{
 "cells": [
  {
   "cell_type": "code",
   "execution_count": 109,
   "id": "5dbe83ee",
   "metadata": {},
   "outputs": [],
   "source": [
    "import json\n",
    "import matplotlib.pyplot as plt\n",
    "import numpy as np\n",
    "%matplotlib inline"
   ]
  },
  {
   "cell_type": "code",
   "execution_count": 110,
   "id": "8b5df435",
   "metadata": {},
   "outputs": [],
   "source": [
    "def import_data(filename):\n",
    "    with open(filename,'r') as f:\n",
    "        data = json.load(f)\n",
    "        \n",
    "    H_creation_time =  [sim[\"Time_H\"] for sim in data[\"Simulations\"]]\n",
    "    brute_force_timings = [sim[\"Time_Qutip\"] for sim in data[\"Simulations\"]]\n",
    "    DMRG_timings = [sim[\"Time_Julia\"] for sim in data[\"Simulations\"]]\n",
    "    n_modes =  [sim[\"n_modes\"] for sim in data[\"Simulations\"]]\n",
    "    Relative_Error = [sim[\"Realative_Error\"] for sim in data[\"Simulations\"]]\n",
    "    Qutip_Evals = [sim[\"Qutip Evals\"] for sim in data[\"Simulations\"]]\n",
    "    DMRG_Evals = [sim[\"DMRG evals\"] for sim in data[\"Simulations\"]]\n",
    "    return H_creation_time, brute_force_timings, DMRG_timings,n_modes,Relative_Error,Qutip_Evals,DMRG_Evals"
   ]
  },
  {
   "cell_type": "markdown",
   "id": "f0c48358",
   "metadata": {},
   "source": [
    "# Brute Force diagonalization vs DMRG\n",
    "#### Changing the number of modes  we confront Qutip diagonalization time vs DMRG"
   ]
  },
  {
   "cell_type": "code",
   "execution_count": 111,
   "id": "51cec30a",
   "metadata": {},
   "outputs": [],
   "source": [
    "H_creation_time, brute_force_timings, DMRG_timings,n_modes,Relative_Error,Qutip_Evals,DMRG_Evals = import_data('../DMRG_time_bench.json')\n",
    "    "
   ]
  },
  {
   "cell_type": "code",
   "execution_count": 112,
   "id": "a7b21b45",
   "metadata": {
    "scrolled": false
   },
   "outputs": [
    {
     "data": {
      "text/plain": [
       "[Text(0.1, 0, '2'), Text(1.1, 0, '3'), Text(2.1, 0, '4')]"
      ]
     },
     "execution_count": 112,
     "metadata": {},
     "output_type": "execute_result"
    },
    {
     "data": {
      "image/png": "[encoded data removed]",
      "text/plain": [
       "<Figure size 720x432 with 1 Axes>"
      ]
     },
     "metadata": {
      "needs_background": "light"
     },
     "output_type": "display_data"
    }
   ],
   "source": [
    "fig, ax = plt.subplots(1, 1, figsize=(10, 6))\n",
    "bar_width = .2\n",
    "x = np.arange(len(n_modes))\n",
    "\n",
    "ax.bar(x,\n",
    "       brute_force_timings,\n",
    "       width=bar_width,\n",
    "       label = 'Brute Force')\n",
    "\n",
    "ax.bar(x + bar_width,\n",
    "       DMRG_timings,\n",
    "       width=bar_width,\n",
    "       label='DMRG')\n",
    "\n",
    "\n",
    "ax.legend()\n",
    "\n",
    "ax.set_title('Brute Force vs DMRG')\n",
    "ax.set_ylabel('Time [s]')\n",
    "ax.set_xlabel('# of modes')\n",
    "\n",
    "ax.set_xticks(x + bar_width/2 )\n",
    "ax.set_xticklabels(n_modes)"
   ]
  },
  {
   "cell_type": "code",
   "execution_count": 113,
   "id": "e870f24b",
   "metadata": {},
   "outputs": [],
   "source": [
    "Relative_Error_ave = abs(np.array([np.mean(error[1:]) for error in Relative_Error]))\n",
    "std = np.array([np.std(error[1:]) for error in Relative_Error])\n"
   ]
  },
  {
   "cell_type": "code",
   "execution_count": 122,
   "id": "0326903f",
   "metadata": {},
   "outputs": [
    {
     "data": {
      "image/png": "[encoded data removed]",
      "text/plain": [
       "<Figure size 576x288 with 1 Axes>"
      ]
     },
     "metadata": {
      "needs_background": "light"
     },
     "output_type": "display_data"
    }
   ],
   "source": [
    "fig, ax = plt.subplots(1, 1, figsize=(8,4))\n",
    "\n",
    "ax.errorbar(n_modes, Relative_Error_ave, std, linestyle='None', \n",
    "            marker='.',\n",
    "           ms=20,\n",
    "           color = 'orange')\n",
    "ax.set_ylim(0,5e-3)\n",
    "\n",
    "ax.set_title(\"eigenvalues realative error\",size=15)\n",
    "ax.set_ylabel('relative error')\n",
    "ax.set_xlabel('# of modes')\n",
    "plt.xticks(range(1,5))\n",
    "plt.show()"
   ]
  },
  {
   "cell_type": "markdown",
   "id": "8f0ff1dc",
   "metadata": {},
   "source": [
    "### Hamiltonian Matrix creation time\n"
   ]
  },
  {
   "cell_type": "code",
   "execution_count": 130,
   "id": "385ed045",
   "metadata": {},
   "outputs": [
    {
     "data": {
      "text/plain": [
       "[Text(0, 0, '2'), Text(1, 0, '3'), Text(2, 0, '4')]"
      ]
     },
     "execution_count": 130,
     "metadata": {},
     "output_type": "execute_result"
    },
    {
     "data": {
      "image/png": "[encoded data removed]",
      "text/plain": [
       "<Figure size 720x432 with 1 Axes>"
      ]
     },
     "metadata": {
      "needs_background": "light"
     },
     "output_type": "display_data"
    }
   ],
   "source": [
    "fig, ax = plt.subplots(1, 1, figsize=(10, 6))\n",
    "x = np.arange(len(n_modes))\n",
    "\n",
    "ax.bar(x,\n",
    "       H_creation_time,\n",
    "       width=bar_width,\n",
    "      color = 'orange')\n",
    "\n",
    "ax.set_title('H creation time')\n",
    "ax.set_ylabel('Time [s]')\n",
    "ax.set_xlabel('# of modes')\n",
    "\n",
    "ax.set_xticks(x)\n",
    "ax.set_xticklabels(n_modes)"
   ]
  },
  {
   "cell_type": "code",
   "execution_count": null,
   "id": "ef73fea2",
   "metadata": {},
   "outputs": [],
   "source": []
  }
 ],
 "metadata": {
  "kernelspec": {
   "display_name": "Python 3 (ipykernel)",
   "language": "python",
   "name": "python3"
  },
  "language_info": {
   "codemirror_mode": {
    "name": "ipython",
    "version": 3
   },
   "file_extension": ".py",
   "mimetype": "text/x-python",
   "name": "python",
   "nbconvert_exporter": "python",
   "pygments_lexer": "ipython3",
   "version": "3.10.6"
  }
 },
 "nbformat": 4,
 "nbformat_minor": 5
}
